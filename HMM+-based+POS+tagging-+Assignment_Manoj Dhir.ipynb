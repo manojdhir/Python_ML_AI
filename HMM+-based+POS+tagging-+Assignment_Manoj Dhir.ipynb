{
 "cells": [
  {
   "cell_type": "markdown",
   "metadata": {},
   "source": [
    "## POS tagging using modified Viterbi"
   ]
  },
  {
   "cell_type": "markdown",
   "metadata": {},
   "source": [
    "###  Using the TreeBank universal tag set corpus, build a Viterbi PoS tagger, then enhance it to solve the problem of unknown words"
   ]
  },
  {
   "cell_type": "markdown",
   "metadata": {},
   "source": [
    "### Data Preparation"
   ]
  },
  {
   "cell_type": "code",
   "execution_count": 1,
   "metadata": {},
   "outputs": [],
   "source": [
    "#Importing libraries\n",
    "import nltk, re, pprint\n",
    "import numpy as np\n",
    "import pandas as pd\n",
    "import requests\n",
    "import matplotlib.pyplot as plt\n",
    "import seaborn as sns\n",
    "import pprint, time\n",
    "import random\n",
    "from sklearn.model_selection import train_test_split\n",
    "from nltk.tokenize import word_tokenize"
   ]
  },
  {
   "cell_type": "code",
   "execution_count": 2,
   "metadata": {},
   "outputs": [],
   "source": [
    "# reading the Treebank tagged sentences\n",
    "nltk_data = list(nltk.corpus.treebank.tagged_sents(tagset='universal'))"
   ]
  },
  {
   "cell_type": "code",
   "execution_count": 3,
   "metadata": {},
   "outputs": [
    {
     "name": "stdout",
     "output_type": "stream",
     "text": [
      "[[('Pierre', 'NOUN'), ('Vinken', 'NOUN'), (',', '.'), ('61', 'NUM'), ('years', 'NOUN'), ('old', 'ADJ'), (',', '.'), ('will', 'VERB'), ('join', 'VERB'), ('the', 'DET'), ('board', 'NOUN'), ('as', 'ADP'), ('a', 'DET'), ('nonexecutive', 'ADJ'), ('director', 'NOUN'), ('Nov.', 'NOUN'), ('29', 'NUM'), ('.', '.')], [('Mr.', 'NOUN'), ('Vinken', 'NOUN'), ('is', 'VERB'), ('chairman', 'NOUN'), ('of', 'ADP'), ('Elsevier', 'NOUN'), ('N.V.', 'NOUN'), (',', '.'), ('the', 'DET'), ('Dutch', 'NOUN'), ('publishing', 'VERB'), ('group', 'NOUN'), ('.', '.')], [('Rudolph', 'NOUN'), ('Agnew', 'NOUN'), (',', '.'), ('55', 'NUM'), ('years', 'NOUN'), ('old', 'ADJ'), ('and', 'CONJ'), ('former', 'ADJ'), ('chairman', 'NOUN'), ('of', 'ADP'), ('Consolidated', 'NOUN'), ('Gold', 'NOUN'), ('Fields', 'NOUN'), ('PLC', 'NOUN'), (',', '.'), ('was', 'VERB'), ('named', 'VERB'), ('*-1', 'X'), ('a', 'DET'), ('nonexecutive', 'ADJ'), ('director', 'NOUN'), ('of', 'ADP'), ('this', 'DET'), ('British', 'ADJ'), ('industrial', 'ADJ'), ('conglomerate', 'NOUN'), ('.', '.')], [('A', 'DET'), ('form', 'NOUN'), ('of', 'ADP'), ('asbestos', 'NOUN'), ('once', 'ADV'), ('used', 'VERB'), ('*', 'X'), ('*', 'X'), ('to', 'PRT'), ('make', 'VERB'), ('Kent', 'NOUN'), ('cigarette', 'NOUN'), ('filters', 'NOUN'), ('has', 'VERB'), ('caused', 'VERB'), ('a', 'DET'), ('high', 'ADJ'), ('percentage', 'NOUN'), ('of', 'ADP'), ('cancer', 'NOUN'), ('deaths', 'NOUN'), ('among', 'ADP'), ('a', 'DET'), ('group', 'NOUN'), ('of', 'ADP'), ('workers', 'NOUN'), ('exposed', 'VERB'), ('*', 'X'), ('to', 'PRT'), ('it', 'PRON'), ('more', 'ADV'), ('than', 'ADP'), ('30', 'NUM'), ('years', 'NOUN'), ('ago', 'ADP'), (',', '.'), ('researchers', 'NOUN'), ('reported', 'VERB'), ('0', 'X'), ('*T*-1', 'X'), ('.', '.')], [('The', 'DET'), ('asbestos', 'NOUN'), ('fiber', 'NOUN'), (',', '.'), ('crocidolite', 'NOUN'), (',', '.'), ('is', 'VERB'), ('unusually', 'ADV'), ('resilient', 'ADJ'), ('once', 'ADP'), ('it', 'PRON'), ('enters', 'VERB'), ('the', 'DET'), ('lungs', 'NOUN'), (',', '.'), ('with', 'ADP'), ('even', 'ADV'), ('brief', 'ADJ'), ('exposures', 'NOUN'), ('to', 'PRT'), ('it', 'PRON'), ('causing', 'VERB'), ('symptoms', 'NOUN'), ('that', 'DET'), ('*T*-1', 'X'), ('show', 'VERB'), ('up', 'PRT'), ('decades', 'NOUN'), ('later', 'ADJ'), (',', '.'), ('researchers', 'NOUN'), ('said', 'VERB'), ('0', 'X'), ('*T*-2', 'X'), ('.', '.')], [('Lorillard', 'NOUN'), ('Inc.', 'NOUN'), (',', '.'), ('the', 'DET'), ('unit', 'NOUN'), ('of', 'ADP'), ('New', 'ADJ'), ('York-based', 'ADJ'), ('Loews', 'NOUN'), ('Corp.', 'NOUN'), ('that', 'DET'), ('*T*-2', 'X'), ('makes', 'VERB'), ('Kent', 'NOUN'), ('cigarettes', 'NOUN'), (',', '.'), ('stopped', 'VERB'), ('using', 'VERB'), ('crocidolite', 'NOUN'), ('in', 'ADP'), ('its', 'PRON'), ('Micronite', 'NOUN'), ('cigarette', 'NOUN'), ('filters', 'NOUN'), ('in', 'ADP'), ('1956', 'NUM'), ('.', '.')], [('Although', 'ADP'), ('preliminary', 'ADJ'), ('findings', 'NOUN'), ('were', 'VERB'), ('reported', 'VERB'), ('*-2', 'X'), ('more', 'ADV'), ('than', 'ADP'), ('a', 'DET'), ('year', 'NOUN'), ('ago', 'ADP'), (',', '.'), ('the', 'DET'), ('latest', 'ADJ'), ('results', 'NOUN'), ('appear', 'VERB'), ('in', 'ADP'), ('today', 'NOUN'), (\"'s\", 'PRT'), ('New', 'NOUN'), ('England', 'NOUN'), ('Journal', 'NOUN'), ('of', 'ADP'), ('Medicine', 'NOUN'), (',', '.'), ('a', 'DET'), ('forum', 'NOUN'), ('likely', 'ADJ'), ('*', 'X'), ('to', 'PRT'), ('bring', 'VERB'), ('new', 'ADJ'), ('attention', 'NOUN'), ('to', 'PRT'), ('the', 'DET'), ('problem', 'NOUN'), ('.', '.')], [('A', 'DET'), ('Lorillard', 'NOUN'), ('spokewoman', 'NOUN'), ('said', 'VERB'), (',', '.'), ('``', '.'), ('This', 'DET'), ('is', 'VERB'), ('an', 'DET'), ('old', 'ADJ'), ('story', 'NOUN'), ('.', '.')], [('We', 'PRON'), (\"'re\", 'VERB'), ('talking', 'VERB'), ('about', 'ADP'), ('years', 'NOUN'), ('ago', 'ADP'), ('before', 'ADP'), ('anyone', 'NOUN'), ('heard', 'VERB'), ('of', 'ADP'), ('asbestos', 'NOUN'), ('having', 'VERB'), ('any', 'DET'), ('questionable', 'ADJ'), ('properties', 'NOUN'), ('.', '.')], [('There', 'DET'), ('is', 'VERB'), ('no', 'DET'), ('asbestos', 'NOUN'), ('in', 'ADP'), ('our', 'PRON'), ('products', 'NOUN'), ('now', 'ADV'), ('.', '.'), (\"''\", '.')]]\n"
     ]
    }
   ],
   "source": [
    "# first few tagged sentences\n",
    "print(nltk_data[:10])"
   ]
  },
  {
   "cell_type": "code",
   "execution_count": 4,
   "metadata": {},
   "outputs": [
    {
     "name": "stdout",
     "output_type": "stream",
     "text": [
      "3718\n",
      "196\n",
      "[[('Thus', 'ADV'), (',', '.'), ('with', 'ADP'), ('one', 'NUM'), ('brief', 'ADJ'), ('passage', 'NOUN'), ('in', 'ADP'), ('an', 'DET'), ('appropriations', 'NOUN'), ('bill', 'NOUN'), (',', '.'), ('Congress', 'NOUN'), ('repeals', 'VERB'), ('the', 'DET'), ('president', 'NOUN'), (\"'s\", 'PRT'), ('power', 'NOUN'), ('*', 'X'), ('to', 'PRT'), ('make', 'VERB'), ('recess', 'NOUN'), ('appointments', 'NOUN'), ('under', 'ADP'), ('Article', 'NOUN'), ('II', 'NOUN'), ('.', '.')], [('Furukawa', 'NOUN'), ('said', 'VERB'), ('0', 'X'), ('the', 'DET'), ('purchase', 'NOUN'), ('of', 'ADP'), ('the', 'DET'), ('French', 'ADJ'), ('and', 'CONJ'), ('German', 'ADJ'), ('plants', 'NOUN'), ('together', 'ADV'), ('will', 'VERB'), ('total', 'VERB'), ('about', 'ADV'), ('40', 'NUM'), ('billion', 'NUM'), ('yen', 'NOUN'), ('-LRB-', '.'), ('$', '.'), ('280', 'NUM'), ('million', 'NUM'), ('*U*', 'X'), ('-RRB-', '.'), ('.', '.')], [('There', 'DET'), ('is', 'VERB'), ('also', 'ADV'), ('speculation', 'NOUN'), ('that', 'ADP'), ('Mr.', 'NOUN'), ('Newhouse', 'NOUN'), ('could', 'VERB'), ('bring', 'VERB'), ('in', 'ADP'), ('a', 'DET'), ('powerhouse', 'NOUN'), ('businessman', 'NOUN'), ('or', 'CONJ'), ('another', 'DET'), ('Newhouse', 'NOUN'), ('family', 'NOUN'), ('member', 'NOUN'), ('0', 'X'), ('*T*-1', 'X'), ('to', 'PRT'), ('run', 'VERB'), ('the', 'DET'), ('business', 'NOUN'), ('side', 'NOUN'), (',', '.'), ('in', 'ADP'), ('combination', 'NOUN'), ('with', 'ADP'), ('a', 'DET'), ('publishing', 'NOUN'), ('executive', 'NOUN'), ('like', 'ADP'), ('Robert', 'NOUN'), ('Gottlieb', 'NOUN'), (',', '.'), ('who', 'PRON'), ('*T*-38', 'X'), ('left', 'VERB'), ('Random', 'NOUN'), ('House', 'NOUN'), (\"'s\", 'PRT'), ('Alfred', 'NOUN'), ('A.', 'NOUN'), ('Knopf', 'NOUN'), ('*-2', 'X'), ('to', 'PRT'), ('run', 'VERB'), ('the', 'DET'), ('New', 'NOUN'), ('Yorker', 'NOUN'), (',', '.'), ('also', 'ADV'), ('owned', 'VERB'), ('*', 'X'), ('by', 'ADP'), ('the', 'DET'), ('Newhouse', 'NOUN'), ('family', 'NOUN'), ('.', '.')], [('In', 'ADP'), ('fiscal', 'ADJ'), ('1988', 'NUM'), (',', '.'), ('the', 'DET'), ('company', 'NOUN'), ('earned', 'VERB'), ('$', '.'), ('17.3', 'NUM'), ('million', 'NUM'), ('*U*', 'X'), (',', '.'), ('or', 'CONJ'), ('$', '.'), ('1.92', 'NUM'), ('*U*', 'X'), ('a', 'DET'), ('share', 'NOUN'), (',', '.'), ('on', 'ADP'), ('revenue', 'NOUN'), ('of', 'ADP'), ('$', '.'), ('352.9', 'NUM'), ('million', 'NUM'), ('*U*', 'X'), ('.', '.')], [('The', 'DET'), ('previous', 'ADJ'), ('record', 'NOUN'), ('was', 'VERB'), ('$', '.'), ('57.7', 'NUM'), ('billion', 'NUM'), ('*U*', 'X'), ('in', 'ADP'), ('1987', 'NUM'), (',', '.'), ('according', 'VERB'), ('to', 'PRT'), ('the', 'DET'), ('Agriculture', 'NOUN'), ('Department', 'NOUN'), ('.', '.')]]\n"
     ]
    }
   ],
   "source": [
    "# Splitting into train and test\n",
    "random.seed(1234)\n",
    "train_set, test_set = train_test_split(nltk_data,test_size=0.05)\n",
    "\n",
    "print(len(train_set))\n",
    "print(len(test_set))\n",
    "print(train_set[:5])"
   ]
  },
  {
   "cell_type": "code",
   "execution_count": 5,
   "metadata": {},
   "outputs": [
    {
     "data": {
      "text/plain": [
       "95877"
      ]
     },
     "execution_count": 5,
     "metadata": {},
     "output_type": "execute_result"
    }
   ],
   "source": [
    "# Getting list of tagged words\n",
    "train_tagged_words = [tup for sent in train_set for tup in sent]\n",
    "len(train_tagged_words)"
   ]
  },
  {
   "cell_type": "code",
   "execution_count": 6,
   "metadata": {},
   "outputs": [
    {
     "data": {
      "text/plain": [
       "['Thus',\n",
       " ',',\n",
       " 'with',\n",
       " 'one',\n",
       " 'brief',\n",
       " 'passage',\n",
       " 'in',\n",
       " 'an',\n",
       " 'appropriations',\n",
       " 'bill']"
      ]
     },
     "execution_count": 6,
     "metadata": {},
     "output_type": "execute_result"
    }
   ],
   "source": [
    "# tokens \n",
    "tokens = [pair[0] for pair in train_tagged_words]\n",
    "tokens[:10]"
   ]
  },
  {
   "cell_type": "code",
   "execution_count": 7,
   "metadata": {},
   "outputs": [
    {
     "name": "stdout",
     "output_type": "stream",
     "text": [
      "12088\n"
     ]
    }
   ],
   "source": [
    "# vocabulary\n",
    "Vac = set(tokens)\n",
    "print(len(Vac))"
   ]
  },
  {
   "cell_type": "code",
   "execution_count": 8,
   "metadata": {},
   "outputs": [
    {
     "data": {
      "text/plain": [
       "12"
      ]
     },
     "execution_count": 8,
     "metadata": {},
     "output_type": "execute_result"
    }
   ],
   "source": [
    "# number of tags\n",
    "Tg = set([pair[1] for pair in train_tagged_words])\n",
    "len(Tg)"
   ]
  },
  {
   "cell_type": "code",
   "execution_count": 9,
   "metadata": {},
   "outputs": [
    {
     "name": "stdout",
     "output_type": "stream",
     "text": [
      "{'ADP', 'ADJ', 'PRON', '.', 'X', 'VERB', 'ADV', 'CONJ', 'PRT', 'NOUN', 'DET', 'NUM'}\n"
     ]
    }
   ],
   "source": [
    "print(Tg)"
   ]
  },
  {
   "cell_type": "markdown",
   "metadata": {},
   "source": [
    "##  POS Tagging Algorithm - HMM\n",
    "### Emission Probabilities"
   ]
  },
  {
   "cell_type": "code",
   "execution_count": 10,
   "metadata": {},
   "outputs": [],
   "source": [
    "# computing P(w/t) and storing in T x V matrix\n",
    "t = len(Tg)\n",
    "v = len(Vac)\n",
    "w_given_t = np.zeros((t, v))"
   ]
  },
  {
   "cell_type": "code",
   "execution_count": 11,
   "metadata": {},
   "outputs": [],
   "source": [
    "# compute word given tag: Emission Probability\n",
    "def word_given_tag(word, tag, train_bag = train_tagged_words):\n",
    "    tag_list = [pair for pair in train_bag if pair[1]==tag]\n",
    "    count_tag = len(tag_list)\n",
    "    w_given_tag_list = [pair[0] for pair in tag_list if pair[0]==word]\n",
    "    count_w_given_tag = len(w_given_tag_list)\n",
    "    \n",
    "    return (count_w_given_tag, count_tag)"
   ]
  },
  {
   "cell_type": "markdown",
   "metadata": {},
   "source": [
    "### Transition Probabilities"
   ]
  },
  {
   "cell_type": "code",
   "execution_count": 12,
   "metadata": {},
   "outputs": [],
   "source": [
    "# compute tag given tag: tag2(t2) given tag1 (t1), i.e. Transition Probability\n",
    "\n",
    "def t2_given_t1(t2, t1, train_bag = train_tagged_words):\n",
    "    tags = [pair[1] for pair in train_bag]\n",
    "    count_t1 = len([t for t in tags if t==t1])\n",
    "    count_t2_t1 = 0\n",
    "    for index in range(len(tags)-1):\n",
    "        if tags[index]==t1 and tags[index+1] == t2:\n",
    "            count_t2_t1 += 1\n",
    "    return (count_t2_t1, count_t1)"
   ]
  },
  {
   "cell_type": "code",
   "execution_count": 13,
   "metadata": {},
   "outputs": [],
   "source": [
    "# creating t x t transition matrix of tags\n",
    "# each column is t2, each row is t1\n",
    "# thus M(i, j) represents P(tj given ti)\n",
    "\n",
    "tags_matrix = np.zeros((len(Tg), len(Tg)), dtype='float32')\n",
    "for i, t1 in enumerate(list(Tg)):\n",
    "    for j, t2 in enumerate(list(Tg)): \n",
    "        tags_matrix[i, j] = t2_given_t1(t2, t1)[0]/t2_given_t1(t2, t1)[1]"
   ]
  },
  {
   "cell_type": "code",
   "execution_count": 14,
   "metadata": {},
   "outputs": [
    {
     "data": {
      "text/plain": [
       "array([[1.68353748e-02, 1.06979221e-01, 6.76611587e-02, 3.94246131e-02,\n",
       "        3.48428339e-02, 8.52424093e-03, 1.35322325e-02, 8.52424069e-04,\n",
       "        1.49174209e-03, 3.22855622e-01, 3.25199783e-01, 6.18007444e-02],\n",
       "       [7.67334849e-02, 6.63818568e-02, 6.57246157e-04, 6.32599443e-02,\n",
       "        2.13604998e-02, 1.23233655e-02, 4.92934603e-03, 1.62668414e-02,\n",
       "        1.00230034e-02, 7.01938868e-01, 4.92934603e-03, 2.11961884e-02],\n",
       "       [2.31660232e-02, 7.41312727e-02, 7.72200758e-03, 3.78378369e-02,\n",
       "        9.45945978e-02, 4.84555990e-01, 3.47490348e-02, 5.40540554e-03,\n",
       "        1.31274136e-02, 2.07335904e-01, 1.00386096e-02, 7.33590731e-03],\n",
       "       [9.15214643e-02, 4.37398963e-02, 6.59241974e-02, 9.25992429e-02,\n",
       "        2.72139385e-02, 8.99946094e-02, 5.16436137e-02, 5.77510335e-02,\n",
       "        2.51481938e-03, 2.22381890e-01, 1.73253104e-01, 8.13723728e-02],\n",
       "       [1.44964308e-01, 1.71292629e-02, 5.59873134e-02, 1.62410781e-01,\n",
       "        7.48612210e-02, 2.04440922e-01, 2.52180807e-02, 1.04678823e-02,\n",
       "        1.86518639e-01, 6.10626489e-02, 5.40840589e-02, 2.85487715e-03],\n",
       "       [9.16976482e-02, 6.52106553e-02, 3.52385379e-02, 3.43866162e-02,\n",
       "        2.17007428e-01, 1.68757752e-01, 8.19392800e-02, 5.34386607e-03,\n",
       "        3.18308547e-02, 1.11679055e-01, 1.33906439e-01, 2.30018590e-02],\n",
       "       [1.18857905e-01, 1.28818065e-01, 1.52722448e-02, 1.35790169e-01,\n",
       "        2.29083672e-02, 3.46613556e-01, 7.93492720e-02, 6.64010644e-03,\n",
       "        1.42762288e-02, 3.15405056e-02, 6.93891123e-02, 3.05444896e-02],\n",
       "       [5.33642694e-02, 1.16473317e-01, 5.84686771e-02, 3.52668203e-02,\n",
       "        8.35266802e-03, 1.57772616e-01, 5.33642694e-02, 4.64037119e-04,\n",
       "        5.10440813e-03, 3.49419951e-01, 1.20649651e-01, 4.12993021e-02],\n",
       "       [2.06584893e-02, 8.45706910e-02, 1.80761777e-02, 4.26081344e-02,\n",
       "        1.35571333e-02, 4.01872188e-01, 9.36087780e-03, 1.93673337e-03,\n",
       "        1.93673337e-03, 2.48224661e-01, 1.00064561e-01, 5.71336336e-02],\n",
       "       [1.76494107e-01, 1.18510975e-02, 4.68954490e-03, 2.40729973e-01,\n",
       "        2.92278603e-02, 1.45884827e-01, 1.71949975e-02, 4.28602584e-02,\n",
       "        4.42416742e-02, 2.63886869e-01, 1.33779263e-02, 9.56085511e-03],\n",
       "       [9.26482957e-03, 2.05510765e-01, 3.36902891e-03, 1.72061119e-02,\n",
       "        4.62038256e-02, 4.00673822e-02, 1.27541814e-02, 4.81289870e-04,\n",
       "        2.40644935e-04, 6.37227774e-01, 5.53483330e-03, 2.21393332e-02],\n",
       "       [3.37178335e-02, 3.37178335e-02, 1.18308188e-03, 1.18308194e-01,\n",
       "        2.09701270e-01, 1.68589167e-02, 2.95770471e-03, 1.36054419e-02,\n",
       "        2.80981958e-02, 3.53149951e-01, 3.25347530e-03, 1.85448095e-01]],\n",
       "      dtype=float32)"
      ]
     },
     "execution_count": 14,
     "metadata": {},
     "output_type": "execute_result"
    }
   ],
   "source": [
    "tags_matrix"
   ]
  },
  {
   "cell_type": "code",
   "execution_count": 15,
   "metadata": {},
   "outputs": [],
   "source": [
    "# convert the matrix to a df for better readability\n",
    "tags_df = pd.DataFrame(tags_matrix, columns = list(Tg), index=list(Tg))"
   ]
  },
  {
   "cell_type": "code",
   "execution_count": 16,
   "metadata": {},
   "outputs": [
    {
     "data": {
      "text/html": [
       "<div>\n",
       "<style scoped>\n",
       "    .dataframe tbody tr th:only-of-type {\n",
       "        vertical-align: middle;\n",
       "    }\n",
       "\n",
       "    .dataframe tbody tr th {\n",
       "        vertical-align: top;\n",
       "    }\n",
       "\n",
       "    .dataframe thead th {\n",
       "        text-align: right;\n",
       "    }\n",
       "</style>\n",
       "<table border=\"1\" class=\"dataframe\">\n",
       "  <thead>\n",
       "    <tr style=\"text-align: right;\">\n",
       "      <th></th>\n",
       "      <th>ADP</th>\n",
       "      <th>ADJ</th>\n",
       "      <th>PRON</th>\n",
       "      <th>.</th>\n",
       "      <th>X</th>\n",
       "      <th>VERB</th>\n",
       "      <th>ADV</th>\n",
       "      <th>CONJ</th>\n",
       "      <th>PRT</th>\n",
       "      <th>NOUN</th>\n",
       "      <th>DET</th>\n",
       "      <th>NUM</th>\n",
       "    </tr>\n",
       "  </thead>\n",
       "  <tbody>\n",
       "    <tr>\n",
       "      <th>ADP</th>\n",
       "      <td>0.016835</td>\n",
       "      <td>0.106979</td>\n",
       "      <td>0.067661</td>\n",
       "      <td>0.039425</td>\n",
       "      <td>0.034843</td>\n",
       "      <td>0.008524</td>\n",
       "      <td>0.013532</td>\n",
       "      <td>0.000852</td>\n",
       "      <td>0.001492</td>\n",
       "      <td>0.322856</td>\n",
       "      <td>0.325200</td>\n",
       "      <td>0.061801</td>\n",
       "    </tr>\n",
       "    <tr>\n",
       "      <th>ADJ</th>\n",
       "      <td>0.076733</td>\n",
       "      <td>0.066382</td>\n",
       "      <td>0.000657</td>\n",
       "      <td>0.063260</td>\n",
       "      <td>0.021360</td>\n",
       "      <td>0.012323</td>\n",
       "      <td>0.004929</td>\n",
       "      <td>0.016267</td>\n",
       "      <td>0.010023</td>\n",
       "      <td>0.701939</td>\n",
       "      <td>0.004929</td>\n",
       "      <td>0.021196</td>\n",
       "    </tr>\n",
       "    <tr>\n",
       "      <th>PRON</th>\n",
       "      <td>0.023166</td>\n",
       "      <td>0.074131</td>\n",
       "      <td>0.007722</td>\n",
       "      <td>0.037838</td>\n",
       "      <td>0.094595</td>\n",
       "      <td>0.484556</td>\n",
       "      <td>0.034749</td>\n",
       "      <td>0.005405</td>\n",
       "      <td>0.013127</td>\n",
       "      <td>0.207336</td>\n",
       "      <td>0.010039</td>\n",
       "      <td>0.007336</td>\n",
       "    </tr>\n",
       "    <tr>\n",
       "      <th>.</th>\n",
       "      <td>0.091521</td>\n",
       "      <td>0.043740</td>\n",
       "      <td>0.065924</td>\n",
       "      <td>0.092599</td>\n",
       "      <td>0.027214</td>\n",
       "      <td>0.089995</td>\n",
       "      <td>0.051644</td>\n",
       "      <td>0.057751</td>\n",
       "      <td>0.002515</td>\n",
       "      <td>0.222382</td>\n",
       "      <td>0.173253</td>\n",
       "      <td>0.081372</td>\n",
       "    </tr>\n",
       "    <tr>\n",
       "      <th>X</th>\n",
       "      <td>0.144964</td>\n",
       "      <td>0.017129</td>\n",
       "      <td>0.055987</td>\n",
       "      <td>0.162411</td>\n",
       "      <td>0.074861</td>\n",
       "      <td>0.204441</td>\n",
       "      <td>0.025218</td>\n",
       "      <td>0.010468</td>\n",
       "      <td>0.186519</td>\n",
       "      <td>0.061063</td>\n",
       "      <td>0.054084</td>\n",
       "      <td>0.002855</td>\n",
       "    </tr>\n",
       "    <tr>\n",
       "      <th>VERB</th>\n",
       "      <td>0.091698</td>\n",
       "      <td>0.065211</td>\n",
       "      <td>0.035239</td>\n",
       "      <td>0.034387</td>\n",
       "      <td>0.217007</td>\n",
       "      <td>0.168758</td>\n",
       "      <td>0.081939</td>\n",
       "      <td>0.005344</td>\n",
       "      <td>0.031831</td>\n",
       "      <td>0.111679</td>\n",
       "      <td>0.133906</td>\n",
       "      <td>0.023002</td>\n",
       "    </tr>\n",
       "    <tr>\n",
       "      <th>ADV</th>\n",
       "      <td>0.118858</td>\n",
       "      <td>0.128818</td>\n",
       "      <td>0.015272</td>\n",
       "      <td>0.135790</td>\n",
       "      <td>0.022908</td>\n",
       "      <td>0.346614</td>\n",
       "      <td>0.079349</td>\n",
       "      <td>0.006640</td>\n",
       "      <td>0.014276</td>\n",
       "      <td>0.031541</td>\n",
       "      <td>0.069389</td>\n",
       "      <td>0.030544</td>\n",
       "    </tr>\n",
       "    <tr>\n",
       "      <th>CONJ</th>\n",
       "      <td>0.053364</td>\n",
       "      <td>0.116473</td>\n",
       "      <td>0.058469</td>\n",
       "      <td>0.035267</td>\n",
       "      <td>0.008353</td>\n",
       "      <td>0.157773</td>\n",
       "      <td>0.053364</td>\n",
       "      <td>0.000464</td>\n",
       "      <td>0.005104</td>\n",
       "      <td>0.349420</td>\n",
       "      <td>0.120650</td>\n",
       "      <td>0.041299</td>\n",
       "    </tr>\n",
       "    <tr>\n",
       "      <th>PRT</th>\n",
       "      <td>0.020658</td>\n",
       "      <td>0.084571</td>\n",
       "      <td>0.018076</td>\n",
       "      <td>0.042608</td>\n",
       "      <td>0.013557</td>\n",
       "      <td>0.401872</td>\n",
       "      <td>0.009361</td>\n",
       "      <td>0.001937</td>\n",
       "      <td>0.001937</td>\n",
       "      <td>0.248225</td>\n",
       "      <td>0.100065</td>\n",
       "      <td>0.057134</td>\n",
       "    </tr>\n",
       "    <tr>\n",
       "      <th>NOUN</th>\n",
       "      <td>0.176494</td>\n",
       "      <td>0.011851</td>\n",
       "      <td>0.004690</td>\n",
       "      <td>0.240730</td>\n",
       "      <td>0.029228</td>\n",
       "      <td>0.145885</td>\n",
       "      <td>0.017195</td>\n",
       "      <td>0.042860</td>\n",
       "      <td>0.044242</td>\n",
       "      <td>0.263887</td>\n",
       "      <td>0.013378</td>\n",
       "      <td>0.009561</td>\n",
       "    </tr>\n",
       "    <tr>\n",
       "      <th>DET</th>\n",
       "      <td>0.009265</td>\n",
       "      <td>0.205511</td>\n",
       "      <td>0.003369</td>\n",
       "      <td>0.017206</td>\n",
       "      <td>0.046204</td>\n",
       "      <td>0.040067</td>\n",
       "      <td>0.012754</td>\n",
       "      <td>0.000481</td>\n",
       "      <td>0.000241</td>\n",
       "      <td>0.637228</td>\n",
       "      <td>0.005535</td>\n",
       "      <td>0.022139</td>\n",
       "    </tr>\n",
       "    <tr>\n",
       "      <th>NUM</th>\n",
       "      <td>0.033718</td>\n",
       "      <td>0.033718</td>\n",
       "      <td>0.001183</td>\n",
       "      <td>0.118308</td>\n",
       "      <td>0.209701</td>\n",
       "      <td>0.016859</td>\n",
       "      <td>0.002958</td>\n",
       "      <td>0.013605</td>\n",
       "      <td>0.028098</td>\n",
       "      <td>0.353150</td>\n",
       "      <td>0.003253</td>\n",
       "      <td>0.185448</td>\n",
       "    </tr>\n",
       "  </tbody>\n",
       "</table>\n",
       "</div>"
      ],
      "text/plain": [
       "           ADP       ADJ      PRON         .         X      VERB       ADV  \\\n",
       "ADP   0.016835  0.106979  0.067661  0.039425  0.034843  0.008524  0.013532   \n",
       "ADJ   0.076733  0.066382  0.000657  0.063260  0.021360  0.012323  0.004929   \n",
       "PRON  0.023166  0.074131  0.007722  0.037838  0.094595  0.484556  0.034749   \n",
       ".     0.091521  0.043740  0.065924  0.092599  0.027214  0.089995  0.051644   \n",
       "X     0.144964  0.017129  0.055987  0.162411  0.074861  0.204441  0.025218   \n",
       "VERB  0.091698  0.065211  0.035239  0.034387  0.217007  0.168758  0.081939   \n",
       "ADV   0.118858  0.128818  0.015272  0.135790  0.022908  0.346614  0.079349   \n",
       "CONJ  0.053364  0.116473  0.058469  0.035267  0.008353  0.157773  0.053364   \n",
       "PRT   0.020658  0.084571  0.018076  0.042608  0.013557  0.401872  0.009361   \n",
       "NOUN  0.176494  0.011851  0.004690  0.240730  0.029228  0.145885  0.017195   \n",
       "DET   0.009265  0.205511  0.003369  0.017206  0.046204  0.040067  0.012754   \n",
       "NUM   0.033718  0.033718  0.001183  0.118308  0.209701  0.016859  0.002958   \n",
       "\n",
       "          CONJ       PRT      NOUN       DET       NUM  \n",
       "ADP   0.000852  0.001492  0.322856  0.325200  0.061801  \n",
       "ADJ   0.016267  0.010023  0.701939  0.004929  0.021196  \n",
       "PRON  0.005405  0.013127  0.207336  0.010039  0.007336  \n",
       ".     0.057751  0.002515  0.222382  0.173253  0.081372  \n",
       "X     0.010468  0.186519  0.061063  0.054084  0.002855  \n",
       "VERB  0.005344  0.031831  0.111679  0.133906  0.023002  \n",
       "ADV   0.006640  0.014276  0.031541  0.069389  0.030544  \n",
       "CONJ  0.000464  0.005104  0.349420  0.120650  0.041299  \n",
       "PRT   0.001937  0.001937  0.248225  0.100065  0.057134  \n",
       "NOUN  0.042860  0.044242  0.263887  0.013378  0.009561  \n",
       "DET   0.000481  0.000241  0.637228  0.005535  0.022139  \n",
       "NUM   0.013605  0.028098  0.353150  0.003253  0.185448  "
      ]
     },
     "execution_count": 16,
     "metadata": {},
     "output_type": "execute_result"
    }
   ],
   "source": [
    "tags_df"
   ]
  },
  {
   "cell_type": "code",
   "execution_count": 17,
   "metadata": {},
   "outputs": [
    {
     "data": {
      "text/plain": [
       "ADP     0.091521\n",
       "ADJ     0.043740\n",
       "PRON    0.065924\n",
       ".       0.092599\n",
       "X       0.027214\n",
       "VERB    0.089995\n",
       "ADV     0.051644\n",
       "CONJ    0.057751\n",
       "PRT     0.002515\n",
       "NOUN    0.222382\n",
       "DET     0.173253\n",
       "NUM     0.081372\n",
       "Name: ., dtype: float32"
      ]
     },
     "execution_count": 17,
     "metadata": {},
     "output_type": "execute_result"
    }
   ],
   "source": [
    "tags_df.loc['.', :]"
   ]
  },
  {
   "cell_type": "code",
   "execution_count": 18,
   "metadata": {},
   "outputs": [
    {
     "data": {
      "image/png": "[encoded data removed]",
      "text/plain": [
       "<Figure size 1296x864 with 2 Axes>"
      ]
     },
     "metadata": {
      "needs_background": "light"
     },
     "output_type": "display_data"
    }
   ],
   "source": [
    "# heatmap of tags matrix\n",
    "# T(i, j) means P(tag j given tag i)\n",
    "plt.figure(figsize=(18, 12))\n",
    "sns.heatmap(tags_df)\n",
    "plt.show()\n"
   ]
  },
  {
   "cell_type": "code",
   "execution_count": 19,
   "metadata": {},
   "outputs": [
    {
     "data": {
      "image/png": "[encoded data removed]",
      "text/plain": [
       "<Figure size 1296x864 with 2 Axes>"
      ]
     },
     "metadata": {
      "needs_background": "light"
     },
     "output_type": "display_data"
    }
   ],
   "source": [
    "# frequent tags\n",
    "# filter the df to get P(t2, t1) > 0.5\n",
    "tags_frequent = tags_df[tags_df>0.5]\n",
    "plt.figure(figsize=(18, 12))\n",
    "sns.heatmap(tags_frequent)\n",
    "plt.show()"
   ]
  },
  {
   "cell_type": "code",
   "execution_count": 20,
   "metadata": {},
   "outputs": [
    {
     "data": {
      "text/plain": [
       "95877"
      ]
     },
     "execution_count": 20,
     "metadata": {},
     "output_type": "execute_result"
    }
   ],
   "source": [
    "len(train_tagged_words)"
   ]
  },
  {
   "cell_type": "code",
   "execution_count": null,
   "metadata": {},
   "outputs": [],
   "source": []
  },
  {
   "cell_type": "markdown",
   "metadata": {},
   "source": [
    "### Build the vanilla Viterbi based POS tagger"
   ]
  },
  {
   "cell_type": "code",
   "execution_count": 21,
   "metadata": {},
   "outputs": [],
   "source": [
    "# Viterbi Heuristic\n",
    "def Viterbi(words, train_bag = train_tagged_words):\n",
    "    state = []\n",
    "    T = list(set([pair[1] for pair in train_bag]))\n",
    "    \n",
    "    for key, word in enumerate(words):\n",
    "        #initialise list of probability column for a given observation\n",
    "        p = [] \n",
    "        for tag in T:\n",
    "            if key == 0:\n",
    "                transition_p = tags_df.loc['.', tag]\n",
    "            else:\n",
    "                transition_p = tags_df.loc[state[-1], tag]\n",
    "                \n",
    "            # compute emission and state probabilities\n",
    "            emission_p = word_given_tag(words[key], tag)[0]/word_given_tag(words[key], tag)[1]\n",
    "            state_probability = emission_p * transition_p    \n",
    "            p.append(state_probability)\n",
    "            \n",
    "        pmax = max(p)\n",
    "        # getting state for which probability is maximum\n",
    "        state_max = T[p.index(pmax)] \n",
    "        state.append(state_max)\n",
    "    return list(zip(words, state))"
   ]
  },
  {
   "cell_type": "code",
   "execution_count": 22,
   "metadata": {},
   "outputs": [
    {
     "data": {
      "text/plain": [
       "[[('In', 'ADP'),\n",
       "  ('fiscal', 'ADJ'),\n",
       "  ('1989', 'NUM'),\n",
       "  (',', '.'),\n",
       "  ('Elco', 'NOUN'),\n",
       "  ('earned', 'VERB'),\n",
       "  ('$', '.'),\n",
       "  ('7.8', 'NUM'),\n",
       "  ('million', 'NUM'),\n",
       "  ('*U*', 'X'),\n",
       "  (',', '.'),\n",
       "  ('or', 'CONJ'),\n",
       "  ('$', '.'),\n",
       "  ('1.65', 'NUM'),\n",
       "  ('*U*', 'X'),\n",
       "  ('a', 'DET'),\n",
       "  ('share', 'NOUN'),\n",
       "  ('.', '.')],\n",
       " [('Mr.', 'NOUN'),\n",
       "  ('Phelan', 'NOUN'),\n",
       "  ('said', 'VERB'),\n",
       "  ('0', 'X'),\n",
       "  ('the', 'DET'),\n",
       "  ('Big', 'NOUN'),\n",
       "  ('Board', 'NOUN'),\n",
       "  ('is', 'VERB'),\n",
       "  ('likely', 'ADJ'),\n",
       "  ('*-1', 'X'),\n",
       "  ('to', 'PRT'),\n",
       "  ('study', 'VERB'),\n",
       "  ('the', 'DET'),\n",
       "  ('program-trading', 'ADJ'),\n",
       "  ('issue', 'NOUN'),\n",
       "  ('.', '.')],\n",
       " [('The', 'DET'),\n",
       "  ('Japanese', 'ADJ'),\n",
       "  ('companies', 'NOUN'),\n",
       "  ('bankroll', 'VERB'),\n",
       "  ('many', 'ADJ'),\n",
       "  ('small', 'ADJ'),\n",
       "  ('U.S.', 'NOUN'),\n",
       "  ('companies', 'NOUN'),\n",
       "  ('with', 'ADP'),\n",
       "  ('promising', 'ADJ'),\n",
       "  ('products', 'NOUN'),\n",
       "  ('or', 'CONJ'),\n",
       "  ('ideas', 'NOUN'),\n",
       "  (',', '.'),\n",
       "  ('*-1', 'X'),\n",
       "  ('frequently', 'ADV'),\n",
       "  ('putting', 'VERB'),\n",
       "  ('their', 'PRON'),\n",
       "  ('money', 'NOUN'),\n",
       "  ('behind', 'ADP'),\n",
       "  ('projects', 'NOUN'),\n",
       "  ('that', 'ADP'),\n",
       "  ('commercial', 'ADJ'),\n",
       "  ('banks', 'NOUN'),\n",
       "  ('wo', 'VERB'),\n",
       "  (\"n't\", 'ADV'),\n",
       "  ('touch', 'VERB'),\n",
       "  ('*T*-191', 'X'),\n",
       "  ('.', '.')],\n",
       " [('Volume', 'NOUN'),\n",
       "  ('was', 'VERB'),\n",
       "  ('372.9', 'NUM'),\n",
       "  ('million', 'NUM'),\n",
       "  ('shares', 'NOUN'),\n",
       "  (',', '.'),\n",
       "  ('up', 'ADV'),\n",
       "  ('from', 'ADP'),\n",
       "  ('334.5', 'NUM'),\n",
       "  ('million', 'NUM'),\n",
       "  ('on', 'ADP'),\n",
       "  ('Tuesday', 'NOUN'),\n",
       "  ('.', '.')],\n",
       " [('It', 'PRON'),\n",
       "  ('said', 'VERB'),\n",
       "  ('0', 'X'),\n",
       "  ('the', 'DET'),\n",
       "  ('programs', 'NOUN'),\n",
       "  (',', '.'),\n",
       "  ('largely', 'ADV'),\n",
       "  ('game', 'NOUN'),\n",
       "  ('shows', 'NOUN'),\n",
       "  (',', '.'),\n",
       "  ('will', 'VERB'),\n",
       "  ('be', 'VERB'),\n",
       "  ('provided', 'VERB'),\n",
       "  ('*-84', 'X'),\n",
       "  ('by', 'ADP'),\n",
       "  ('its', 'PRON'),\n",
       "  ('E.C.', 'NOUN'),\n",
       "  ('Television', 'NOUN'),\n",
       "  ('unit', 'NOUN'),\n",
       "  ('along', 'ADP'),\n",
       "  ('with', 'ADP'),\n",
       "  ('Fremantle', 'NOUN'),\n",
       "  ('International', 'NOUN'),\n",
       "  (',', '.'),\n",
       "  ('a', 'DET'),\n",
       "  ('producer', 'NOUN'),\n",
       "  ('and', 'CONJ'),\n",
       "  ('distributor', 'NOUN'),\n",
       "  ('of', 'ADP'),\n",
       "  ('game', 'NOUN'),\n",
       "  ('shows', 'NOUN'),\n",
       "  ('of', 'ADP'),\n",
       "  ('which', 'DET'),\n",
       "  ('it', 'PRON'),\n",
       "  ('recently', 'ADV'),\n",
       "  ('bought', 'VERB'),\n",
       "  ('49', 'NUM'),\n",
       "  ('%', 'NOUN'),\n",
       "  ('*T*-1', 'X'),\n",
       "  ('.', '.')]]"
      ]
     },
     "execution_count": 22,
     "metadata": {},
     "output_type": "execute_result"
    }
   ],
   "source": [
    "# Running on entire test dataset would take more than 3-4hrs. \n",
    "# Let's test our Viterbi algorithm on a few sample sentences of test dataset\n",
    "\n",
    "random.seed(1234)\n",
    "\n",
    "# choose random 5 sents\n",
    "rndom = [random.randint(1,len(test_set)) for x in range(5)]\n",
    "\n",
    "# list of sents\n",
    "test_run = [test_set[i] for i in rndom]\n",
    "\n",
    "# list of tagged words\n",
    "test_run_base = [tup for sent in test_run for tup in sent]\n",
    "\n",
    "# list of untagged words\n",
    "test_tagged_words = [tup[0] for sent in test_run for tup in sent]\n",
    "test_run"
   ]
  },
  {
   "cell_type": "code",
   "execution_count": 23,
   "metadata": {},
   "outputs": [],
   "source": [
    "# tagging the test sentences\n",
    "start = time.time()\n",
    "tagged_seq = Viterbi(test_tagged_words)\n",
    "end = time.time()\n",
    "difference = end-start"
   ]
  },
  {
   "cell_type": "code",
   "execution_count": 24,
   "metadata": {},
   "outputs": [
    {
     "name": "stdout",
     "output_type": "stream",
     "text": [
      "Time taken in seconds:  44.89254832267761\n",
      "[('In', 'ADP'), ('fiscal', 'ADJ'), ('1989', 'NUM'), (',', '.'), ('Elco', 'NOUN'), ('earned', 'VERB'), ('$', '.'), ('7.8', 'ADP'), ('million', 'NUM'), ('*U*', 'X'), (',', '.'), ('or', 'CONJ'), ('$', '.'), ('1.65', 'NUM'), ('*U*', 'X'), ('a', 'DET'), ('share', 'NOUN'), ('.', '.'), ('Mr.', 'NOUN'), ('Phelan', 'NOUN'), ('said', 'VERB'), ('0', 'X'), ('the', 'DET'), ('Big', 'NOUN'), ('Board', 'NOUN'), ('is', 'VERB'), ('likely', 'ADJ'), ('*-1', 'X'), ('to', 'PRT'), ('study', 'NOUN'), ('the', 'DET'), ('program-trading', 'ADJ'), ('issue', 'NOUN'), ('.', '.'), ('The', 'DET'), ('Japanese', 'ADJ'), ('companies', 'NOUN'), ('bankroll', 'ADP'), ('many', 'ADJ'), ('small', 'ADJ'), ('U.S.', 'NOUN'), ('companies', 'NOUN'), ('with', 'ADP'), ('promising', 'ADP'), ('products', 'NOUN'), ('or', 'CONJ'), ('ideas', 'NOUN'), (',', '.'), ('*-1', 'X'), ('frequently', 'ADV'), ('putting', 'VERB'), ('their', 'PRON'), ('money', 'NOUN'), ('behind', 'ADP'), ('projects', 'NOUN'), ('that', 'ADP'), ('commercial', 'ADJ'), ('banks', 'NOUN'), ('wo', 'VERB'), (\"n't\", 'ADV'), ('touch', 'VERB'), ('*T*-191', 'ADP'), ('.', '.'), ('Volume', 'NOUN'), ('was', 'VERB'), ('372.9', 'ADP'), ('million', 'NUM'), ('shares', 'NOUN'), (',', '.'), ('up', 'ADV'), ('from', 'ADP'), ('334.5', 'ADP'), ('million', 'NUM'), ('on', 'ADP'), ('Tuesday', 'NOUN'), ('.', '.'), ('It', 'PRON'), ('said', 'VERB'), ('0', 'X'), ('the', 'DET'), ('programs', 'NOUN'), (',', '.'), ('largely', 'ADV'), ('game', 'NOUN'), ('shows', 'VERB'), (',', '.'), ('will', 'VERB'), ('be', 'VERB'), ('provided', 'VERB'), ('*-84', 'X'), ('by', 'ADP'), ('its', 'PRON'), ('E.C.', 'ADP'), ('Television', 'NOUN'), ('unit', 'NOUN'), ('along', 'ADP'), ('with', 'ADP'), ('Fremantle', 'ADP'), ('International', 'NOUN'), (',', '.'), ('a', 'DET'), ('producer', 'NOUN'), ('and', 'CONJ'), ('distributor', 'NOUN'), ('of', 'ADP'), ('game', 'NOUN'), ('shows', 'VERB'), ('of', 'ADP'), ('which', 'DET'), ('it', 'PRON'), ('recently', 'ADV'), ('bought', 'VERB'), ('49', 'NUM'), ('%', 'NOUN'), ('*T*-1', 'X'), ('.', '.')]\n"
     ]
    }
   ],
   "source": [
    "print(\"Time taken in seconds: \", difference)\n",
    "print(tagged_seq)\n",
    "#print(test_run_base)"
   ]
  },
  {
   "cell_type": "code",
   "execution_count": 25,
   "metadata": {},
   "outputs": [
    {
     "data": {
      "text/plain": [
       "0.9051724137931034"
      ]
     },
     "execution_count": 25,
     "metadata": {},
     "output_type": "execute_result"
    }
   ],
   "source": [
    "# accuracy\n",
    "check = [i for i, j in zip(tagged_seq, test_run_base) if i == j]\n",
    "accuracy_vanilla_viterbi = len(check)/len(tagged_seq)\n",
    "accuracy_vanilla_viterbi"
   ]
  },
  {
   "cell_type": "code",
   "execution_count": 26,
   "metadata": {},
   "outputs": [
    {
     "data": {
      "text/plain": [
       "[[('$', '.'), (('7.8', 'ADP'), ('7.8', 'NUM'))],\n",
       " [('to', 'PRT'), (('study', 'NOUN'), ('study', 'VERB'))],\n",
       " [('companies', 'NOUN'), (('bankroll', 'ADP'), ('bankroll', 'VERB'))],\n",
       " [('with', 'ADP'), (('promising', 'ADP'), ('promising', 'ADJ'))],\n",
       " [('touch', 'VERB'), (('*T*-191', 'ADP'), ('*T*-191', 'X'))],\n",
       " [('was', 'VERB'), (('372.9', 'ADP'), ('372.9', 'NUM'))],\n",
       " [('from', 'ADP'), (('334.5', 'ADP'), ('334.5', 'NUM'))],\n",
       " [('game', 'NOUN'), (('shows', 'VERB'), ('shows', 'NOUN'))],\n",
       " [('its', 'PRON'), (('E.C.', 'ADP'), ('E.C.', 'NOUN'))],\n",
       " [('with', 'ADP'), (('Fremantle', 'ADP'), ('Fremantle', 'NOUN'))],\n",
       " [('game', 'NOUN'), (('shows', 'VERB'), ('shows', 'NOUN'))]]"
      ]
     },
     "execution_count": 26,
     "metadata": {},
     "output_type": "execute_result"
    }
   ],
   "source": [
    "incorrect_tagged_vanilla_viterbi = [[test_run_base[i-1],j] for i, j in enumerate(zip(tagged_seq, test_run_base)) if j[0]!=j[1]]\n",
    "incorrect_tagged_vanilla_viterbi"
   ]
  },
  {
   "cell_type": "code",
   "execution_count": 27,
   "metadata": {},
   "outputs": [],
   "source": [
    "## Testing\n",
    "sentence_test = 'Google and Twitter made a deal in 2015 that gave Google access to Twitter\\'s firehose.'\n",
    "words = word_tokenize(sentence_test)\n",
    "\n",
    "start = time.time()\n",
    "tagged_seq = Viterbi(words)\n",
    "end = time.time()\n",
    "difference = end-start"
   ]
  },
  {
   "cell_type": "code",
   "execution_count": 28,
   "metadata": {},
   "outputs": [
    {
     "name": "stdout",
     "output_type": "stream",
     "text": [
      "[('Google', 'ADP'), ('and', 'CONJ'), ('Twitter', 'ADP'), ('made', 'VERB'), ('a', 'DET'), ('deal', 'NOUN'), ('in', 'ADP'), ('2015', 'ADP'), ('that', 'DET'), ('gave', 'VERB'), ('Google', 'ADP'), ('access', 'NOUN'), ('to', 'PRT'), ('Twitter', 'ADP'), (\"'s\", 'PRT'), ('firehose', 'ADP'), ('.', '.')]\n",
      "6.690590143203735\n"
     ]
    }
   ],
   "source": [
    "print(tagged_seq)\n",
    "print(difference)"
   ]
  },
  {
   "cell_type": "markdown",
   "metadata": {},
   "source": [
    "### Solve the problem of unknown words"
   ]
  },
  {
   "cell_type": "markdown",
   "metadata": {},
   "source": [
    "1. Use lexical techniqies on the same data to see if we get better <br>\n",
    "2. Use these to tag unknown words, then see if we get better.  \n",
    "\n"
   ]
  },
  {
   "cell_type": "markdown",
   "metadata": {},
   "source": [
    "Start with unigram tagger"
   ]
  },
  {
   "cell_type": "code",
   "execution_count": 29,
   "metadata": {},
   "outputs": [
    {
     "name": "stdout",
     "output_type": "stream",
     "text": [
      "0.9008126693061055\n"
     ]
    }
   ],
   "source": [
    "# Lexicon (or unigram tagger)\n",
    "unigram_tagger = nltk.UnigramTagger(train_set)\n",
    "accuracy_unigram_tagger = unigram_tagger.evaluate(test_set)\n",
    "print(accuracy_unigram_tagger)"
   ]
  },
  {
   "cell_type": "code",
   "execution_count": 30,
   "metadata": {},
   "outputs": [],
   "source": [
    "# specify patterns for tagging\n",
    "# example from the NLTK book\n",
    "patterns = [\n",
    "    (r'.*ing$', 'VBG'),              # gerund\n",
    "    (r'.*ed$', 'VBD'),               # past tense\n",
    "    (r'.*es$', 'VBZ'),               # 3rd singular present\n",
    "    (r'.*ould$', 'MD'),              # modals\n",
    "    (r'.*\\'s$', 'NN$'),              # possessive nouns\n",
    "    (r'.*s$', 'NNS'),                # plural nouns\n",
    "    (r'^-?[0-9]+(.[0-9]+)?$', 'CD'), # cardinal numbers\n",
    "    (r'.*', 'NN')                    # nouns\n",
    "]\n"
   ]
  },
  {
   "cell_type": "code",
   "execution_count": 31,
   "metadata": {},
   "outputs": [
    {
     "name": "stdout",
     "output_type": "stream",
     "text": [
      "0.9008126693061055\n"
     ]
    }
   ],
   "source": [
    "# rule based tagger\n",
    "rule_based_tagger = nltk.RegexpTagger(patterns)\n",
    "\n",
    "# lexicon backed up by the rule-based tagger\n",
    "lexicon_tagger = nltk.UnigramTagger(train_set, backoff=rule_based_tagger)\n",
    "\n",
    "accuracy_lexicon_tagger = lexicon_tagger.evaluate(test_set)\n",
    "print(accuracy_lexicon_tagger)"
   ]
  },
  {
   "cell_type": "markdown",
   "metadata": {},
   "source": [
    "Trigram tagger"
   ]
  },
  {
   "cell_type": "code",
   "execution_count": 32,
   "metadata": {},
   "outputs": [
    {
     "name": "stdout",
     "output_type": "stream",
     "text": [
      "0.9074807251510731\n"
     ]
    }
   ],
   "source": [
    "# Bigram and Trigram tagger\n",
    "bigram_tagger = nltk.BigramTagger(train_set,backoff=lexicon_tagger)\n",
    "bigram_tagger.evaluate(test_set)\n",
    "accuracy_bigram_tagger = bigram_tagger.evaluate(test_set)\n",
    "print(accuracy_bigram_tagger)"
   ]
  },
  {
   "cell_type": "code",
   "execution_count": 33,
   "metadata": {},
   "outputs": [
    {
     "name": "stdout",
     "output_type": "stream",
     "text": [
      "0.9066472181704521\n"
     ]
    }
   ],
   "source": [
    "trigram_tagger = nltk.TrigramTagger(train_set, backoff=bigram_tagger)\n",
    "trigram_tagger.evaluate(test_set)\n",
    "accuracy_trigram_tagger = trigram_tagger.evaluate(test_set)\n",
    "print(accuracy_trigram_tagger)"
   ]
  },
  {
   "cell_type": "markdown",
   "metadata": {},
   "source": [
    "Getting marginally better, but not by much. <br>\n",
    "Next lets see if we can use this for the unknown words \n"
   ]
  },
  {
   "cell_type": "markdown",
   "metadata": {},
   "source": [
    "Now to build this into viterbi, need to change the regex patterns to fit for the tags in our data (NOUN instead of NNS etc)  "
   ]
  },
  {
   "cell_type": "code",
   "execution_count": 34,
   "metadata": {},
   "outputs": [
    {
     "name": "stdout",
     "output_type": "stream",
     "text": [
      "{'ADP', 'ADJ', 'PRON', '.', 'X', 'VERB', 'ADV', 'CONJ', 'PRT', 'NOUN', 'DET', 'NUM'}\n"
     ]
    }
   ],
   "source": [
    "print(Tg)"
   ]
  },
  {
   "cell_type": "code",
   "execution_count": 35,
   "metadata": {},
   "outputs": [],
   "source": [
    "def trigram_tagger(word,train_set = train_set):\n",
    "    patterns1 = [\n",
    "    (r'.*ing$', 'VERB'),              # gerund\n",
    "    (r'.*ed$', 'VERB'),               # past tense\n",
    "    (r'.*es$', 'VERB'),               # 3rd singular present\n",
    "    (r'.*ould$', 'X'),              # modals\n",
    "    (r'.*\\'s$', 'NOUN'),              # possessive nouns\n",
    "    (r'.*s$', 'NOUN'),                # plural nouns\n",
    "    (r'^-?[0-9]+(.[0-9]+)?$', 'NUM'), # cardinal numbers\n",
    "    (r'.*', 'NOUN')                    # nouns\n",
    "    ]\n",
    "    regex_based_tagger = nltk.RegexpTagger(patterns1)\n",
    "\n",
    "    # trigram backed up by the regex tagger\n",
    "    trigram_regex_tagger = nltk.TrigramTagger(train_set, backoff=regex_based_tagger)\n",
    "    return trigram_regex_tagger.tag_sents([[(word)]])"
   ]
  },
  {
   "cell_type": "code",
   "execution_count": 36,
   "metadata": {},
   "outputs": [],
   "source": [
    "# viterbi with handling for unknown words from regex tagger\n",
    "\n",
    "def Viterbi_modified(words, train_bag = train_tagged_words):\n",
    "    state = []\n",
    "    T = list(set([pair[1] for pair in train_bag]))\n",
    "    \n",
    "    for key, word in enumerate(words):\n",
    "        # unknown words from trigram taggr\n",
    "        if word not in tokens:\n",
    "            unk_word_tag=trigram_tagger(word)\n",
    "            for sent in unk_word_tag:\n",
    "                for tup in sent:\n",
    "                    state.append(tup[1])\n",
    "        # rest remains same            \n",
    "        else:            \n",
    "            p = [] \n",
    "            for tag in T:\n",
    "                if key == 0:\n",
    "                    transition_p = tags_df.loc['.', tag]\n",
    "                else:\n",
    "                    transition_p = tags_df.loc[state[-1], tag]\n",
    "                \n",
    "            # compute emission and state probabilities\n",
    "                emission_p = word_given_tag(words[key], tag)[0]/word_given_tag(words[key], tag)[1]\n",
    "                state_probability = emission_p * transition_p    \n",
    "                p.append(state_probability)\n",
    "            \n",
    "            pmax = max(p)\n",
    "            # getting state for which probability is maximum\n",
    "            state_max = T[p.index(pmax)] \n",
    "            state.append(state_max)\n",
    "            \n",
    "    return list(zip(words, state))"
   ]
  },
  {
   "cell_type": "code",
   "execution_count": 37,
   "metadata": {},
   "outputs": [],
   "source": [
    "start = time.time()\n",
    "tagged_seq = Viterbi_modified(test_tagged_words)\n",
    "end = time.time()\n",
    "difference = end-start"
   ]
  },
  {
   "cell_type": "markdown",
   "metadata": {},
   "source": [
    "#### Evaluating tagging accuracy"
   ]
  },
  {
   "cell_type": "code",
   "execution_count": 38,
   "metadata": {},
   "outputs": [
    {
     "data": {
      "text/plain": [
       "['In',\n",
       " 'fiscal',\n",
       " '1989',\n",
       " ',',\n",
       " 'Elco',\n",
       " 'earned',\n",
       " '$',\n",
       " '7.8',\n",
       " 'million',\n",
       " '*U*',\n",
       " ',',\n",
       " 'or',\n",
       " '$',\n",
       " '1.65',\n",
       " '*U*',\n",
       " 'a',\n",
       " 'share',\n",
       " '.',\n",
       " 'Mr.',\n",
       " 'Phelan',\n",
       " 'said',\n",
       " '0',\n",
       " 'the',\n",
       " 'Big',\n",
       " 'Board',\n",
       " 'is',\n",
       " 'likely',\n",
       " '*-1',\n",
       " 'to',\n",
       " 'study',\n",
       " 'the',\n",
       " 'program-trading',\n",
       " 'issue',\n",
       " '.',\n",
       " 'The',\n",
       " 'Japanese',\n",
       " 'companies',\n",
       " 'bankroll',\n",
       " 'many',\n",
       " 'small',\n",
       " 'U.S.',\n",
       " 'companies',\n",
       " 'with',\n",
       " 'promising',\n",
       " 'products',\n",
       " 'or',\n",
       " 'ideas',\n",
       " ',',\n",
       " '*-1',\n",
       " 'frequently',\n",
       " 'putting',\n",
       " 'their',\n",
       " 'money',\n",
       " 'behind',\n",
       " 'projects',\n",
       " 'that',\n",
       " 'commercial',\n",
       " 'banks',\n",
       " 'wo',\n",
       " \"n't\",\n",
       " 'touch',\n",
       " '*T*-191',\n",
       " '.',\n",
       " 'Volume',\n",
       " 'was',\n",
       " '372.9',\n",
       " 'million',\n",
       " 'shares',\n",
       " ',',\n",
       " 'up',\n",
       " 'from',\n",
       " '334.5',\n",
       " 'million',\n",
       " 'on',\n",
       " 'Tuesday',\n",
       " '.',\n",
       " 'It',\n",
       " 'said',\n",
       " '0',\n",
       " 'the',\n",
       " 'programs',\n",
       " ',',\n",
       " 'largely',\n",
       " 'game',\n",
       " 'shows',\n",
       " ',',\n",
       " 'will',\n",
       " 'be',\n",
       " 'provided',\n",
       " '*-84',\n",
       " 'by',\n",
       " 'its',\n",
       " 'E.C.',\n",
       " 'Television',\n",
       " 'unit',\n",
       " 'along',\n",
       " 'with',\n",
       " 'Fremantle',\n",
       " 'International',\n",
       " ',',\n",
       " 'a',\n",
       " 'producer',\n",
       " 'and',\n",
       " 'distributor',\n",
       " 'of',\n",
       " 'game',\n",
       " 'shows',\n",
       " 'of',\n",
       " 'which',\n",
       " 'it',\n",
       " 'recently',\n",
       " 'bought',\n",
       " '49',\n",
       " '%',\n",
       " '*T*-1',\n",
       " '.']"
      ]
     },
     "execution_count": 38,
     "metadata": {},
     "output_type": "execute_result"
    }
   ],
   "source": [
    "\n",
    "test_run_base = [tup for sent in test_run for tup in sent]\n",
    "\n",
    "# list of untagged words\n",
    "test_tagged_words = [tup[0] for sent in test_run for tup in sent]\n",
    "test_tagged_words"
   ]
  },
  {
   "cell_type": "code",
   "execution_count": 39,
   "metadata": {},
   "outputs": [],
   "source": [
    "# tagging the test sentences\n",
    "start = time.time()\n",
    "tagged_seq_modified = Viterbi_modified(test_tagged_words)\n",
    "end = time.time()\n",
    "difference = end-start"
   ]
  },
  {
   "cell_type": "code",
   "execution_count": 40,
   "metadata": {},
   "outputs": [
    {
     "name": "stdout",
     "output_type": "stream",
     "text": [
      "Time taken in seconds:  64.67760896682739\n",
      "[('In', 'ADP'), ('fiscal', 'ADJ'), ('1989', 'NUM'), (',', '.'), ('Elco', 'NOUN'), ('earned', 'VERB'), ('$', '.'), ('7.8', 'NUM'), ('million', 'NUM'), ('*U*', 'X'), (',', '.'), ('or', 'CONJ'), ('$', '.'), ('1.65', 'NUM'), ('*U*', 'X'), ('a', 'DET'), ('share', 'NOUN'), ('.', '.'), ('Mr.', 'NOUN'), ('Phelan', 'NOUN'), ('said', 'VERB'), ('0', 'X'), ('the', 'DET'), ('Big', 'NOUN'), ('Board', 'NOUN'), ('is', 'VERB'), ('likely', 'ADJ'), ('*-1', 'X'), ('to', 'PRT'), ('study', 'NOUN'), ('the', 'DET'), ('program-trading', 'ADJ'), ('issue', 'NOUN'), ('.', '.'), ('The', 'DET'), ('Japanese', 'ADJ'), ('companies', 'NOUN'), ('bankroll', 'NOUN'), ('many', 'ADJ'), ('small', 'ADJ'), ('U.S.', 'NOUN'), ('companies', 'NOUN'), ('with', 'ADP'), ('promising', 'VERB'), ('products', 'NOUN'), ('or', 'CONJ'), ('ideas', 'NOUN'), (',', '.'), ('*-1', 'X'), ('frequently', 'ADV'), ('putting', 'VERB'), ('their', 'PRON'), ('money', 'NOUN'), ('behind', 'ADP'), ('projects', 'NOUN'), ('that', 'ADP'), ('commercial', 'ADJ'), ('banks', 'NOUN'), ('wo', 'VERB'), (\"n't\", 'ADV'), ('touch', 'VERB'), ('*T*-191', 'NOUN'), ('.', '.'), ('Volume', 'NOUN'), ('was', 'VERB'), ('372.9', 'NUM'), ('million', 'NUM'), ('shares', 'NOUN'), (',', '.'), ('up', 'ADV'), ('from', 'ADP'), ('334.5', 'NUM'), ('million', 'NUM'), ('on', 'ADP'), ('Tuesday', 'NOUN'), ('.', '.'), ('It', 'PRON'), ('said', 'VERB'), ('0', 'X'), ('the', 'DET'), ('programs', 'NOUN'), (',', '.'), ('largely', 'ADV'), ('game', 'NOUN'), ('shows', 'VERB'), (',', '.'), ('will', 'VERB'), ('be', 'VERB'), ('provided', 'VERB'), ('*-84', 'X'), ('by', 'ADP'), ('its', 'PRON'), ('E.C.', 'NOUN'), ('Television', 'NOUN'), ('unit', 'NOUN'), ('along', 'ADP'), ('with', 'ADP'), ('Fremantle', 'NOUN'), ('International', 'NOUN'), (',', '.'), ('a', 'DET'), ('producer', 'NOUN'), ('and', 'CONJ'), ('distributor', 'NOUN'), ('of', 'ADP'), ('game', 'NOUN'), ('shows', 'VERB'), ('of', 'ADP'), ('which', 'DET'), ('it', 'PRON'), ('recently', 'ADV'), ('bought', 'VERB'), ('49', 'NUM'), ('%', 'NOUN'), ('*T*-1', 'X'), ('.', '.')]\n"
     ]
    }
   ],
   "source": [
    "print(\"Time taken in seconds: \", difference)\n",
    "print(tagged_seq_modified)\n",
    "#print(test_run_base)"
   ]
  },
  {
   "cell_type": "code",
   "execution_count": 41,
   "metadata": {},
   "outputs": [
    {
     "data": {
      "text/plain": [
       "0.9482758620689655"
      ]
     },
     "execution_count": 41,
     "metadata": {},
     "output_type": "execute_result"
    }
   ],
   "source": [
    "# accuracy\n",
    "check1 = [i for i, j in zip(tagged_seq_modified, test_run_base) if i == j]\n",
    "accuracy_viterbi_modified = len(check1)/len(tagged_seq_modified)\n",
    "accuracy_viterbi_modified"
   ]
  },
  {
   "cell_type": "code",
   "execution_count": null,
   "metadata": {},
   "outputs": [],
   "source": []
  },
  {
   "cell_type": "markdown",
   "metadata": {},
   "source": [
    "### Compare the tagging accuracies of the modifications with the vanilla Viterbi algorithm"
   ]
  },
  {
   "cell_type": "code",
   "execution_count": 42,
   "metadata": {},
   "outputs": [
    {
     "name": "stdout",
     "output_type": "stream",
     "text": [
      "0.9051724137931034\n"
     ]
    }
   ],
   "source": [
    "print(accuracy_vanilla_viterbi)"
   ]
  },
  {
   "cell_type": "code",
   "execution_count": 43,
   "metadata": {},
   "outputs": [
    {
     "name": "stdout",
     "output_type": "stream",
     "text": [
      "0.9008126693061055\n"
     ]
    }
   ],
   "source": [
    "print(accuracy_unigram_tagger)"
   ]
  },
  {
   "cell_type": "code",
   "execution_count": 44,
   "metadata": {},
   "outputs": [
    {
     "name": "stdout",
     "output_type": "stream",
     "text": [
      "0.9074807251510731\n"
     ]
    }
   ],
   "source": [
    "print(accuracy_bigram_tagger)"
   ]
  },
  {
   "cell_type": "code",
   "execution_count": 45,
   "metadata": {},
   "outputs": [
    {
     "name": "stdout",
     "output_type": "stream",
     "text": [
      "0.9008126693061055\n"
     ]
    }
   ],
   "source": [
    "print(accuracy_lexicon_tagger)"
   ]
  },
  {
   "cell_type": "code",
   "execution_count": 46,
   "metadata": {},
   "outputs": [
    {
     "name": "stdout",
     "output_type": "stream",
     "text": [
      "0.9482758620689655\n"
     ]
    }
   ],
   "source": [
    "print(accuracy_viterbi_modified)"
   ]
  },
  {
   "cell_type": "markdown",
   "metadata": {},
   "source": [
    "### List down cases which were incorrectly tagged by original POS tagger and got corrected by your modifications"
   ]
  },
  {
   "cell_type": "code",
   "execution_count": 47,
   "metadata": {},
   "outputs": [
    {
     "name": "stdout",
     "output_type": "stream",
     "text": [
      "[('Google', 'ADP'), ('and', 'CONJ'), ('Twitter', 'ADP'), ('made', 'VERB'), ('a', 'DET'), ('deal', 'NOUN'), ('in', 'ADP'), ('2015', 'ADP'), ('that', 'DET'), ('gave', 'VERB'), ('Google', 'ADP'), ('access', 'NOUN'), ('to', 'PRT'), ('Twitter', 'ADP'), (\"'s\", 'PRT'), ('firehose', 'ADP'), ('.', '.')]\n"
     ]
    }
   ],
   "source": [
    "## Testing\n",
    "sentence_test1 = 'Google and Twitter made a deal in 2015 that gave Google access to Twitter\\'s firehose.'\n",
    "words = word_tokenize(sentence_test1)\n",
    "tagged_seq = Viterbi(words)\n",
    "print(tagged_seq)"
   ]
  },
  {
   "cell_type": "code",
   "execution_count": 48,
   "metadata": {},
   "outputs": [
    {
     "name": "stdout",
     "output_type": "stream",
     "text": [
      "[('Google', 'NOUN'), ('and', 'CONJ'), ('Twitter', 'NOUN'), ('made', 'VERB'), ('a', 'DET'), ('deal', 'NOUN'), ('in', 'ADP'), ('2015', 'NUM'), ('that', 'ADP'), ('gave', 'VERB'), ('Google', 'NOUN'), ('access', 'NOUN'), ('to', 'PRT'), ('Twitter', 'NOUN'), (\"'s\", 'PRT'), ('firehose', 'NOUN'), ('.', '.')]\n"
     ]
    }
   ],
   "source": [
    "tagged_seq_modified = Viterbi_modified(words)\n",
    "print(tagged_seq_modified)"
   ]
  },
  {
   "cell_type": "code",
   "execution_count": 49,
   "metadata": {},
   "outputs": [
    {
     "name": "stdout",
     "output_type": "stream",
     "text": [
      "[('Android', 'ADP'), ('has', 'VERB'), ('been', 'VERB'), ('the', 'DET'), ('best-selling', 'ADJ'), ('OS', 'ADP'), ('worldwide', 'ADP'), ('on', 'ADP'), ('smartphones', 'ADP'), ('since', 'ADP'), ('2011', 'ADP'), ('and', 'CONJ'), ('on', 'ADP'), ('tablets', 'NOUN'), ('since', 'ADP'), ('2013', 'ADP'), ('.', '.')]\n"
     ]
    }
   ],
   "source": [
    "sentence_test2='Android has been the best-selling OS worldwide on smartphones since 2011 and on tablets since 2013.'\n",
    "words = word_tokenize(sentence_test2)\n",
    "tagged_seq = Viterbi(words)\n",
    "print(tagged_seq)"
   ]
  },
  {
   "cell_type": "code",
   "execution_count": 50,
   "metadata": {},
   "outputs": [
    {
     "name": "stdout",
     "output_type": "stream",
     "text": [
      "[('Android', 'NOUN'), ('has', 'VERB'), ('been', 'VERB'), ('the', 'DET'), ('best-selling', 'ADJ'), ('OS', 'NOUN'), ('worldwide', 'NOUN'), ('on', 'ADP'), ('smartphones', 'VERB'), ('since', 'ADP'), ('2011', 'NUM'), ('and', 'CONJ'), ('on', 'ADP'), ('tablets', 'NOUN'), ('since', 'ADP'), ('2013', 'NUM'), ('.', '.')]\n"
     ]
    }
   ],
   "source": [
    "tagged_seq_modified = Viterbi_modified(words)\n",
    "print(tagged_seq_modified)"
   ]
  },
  {
   "cell_type": "code",
   "execution_count": 51,
   "metadata": {},
   "outputs": [
    {
     "name": "stdout",
     "output_type": "stream",
     "text": [
      "[('I', 'PRON'), ('Instagrammed', 'ADP'), ('a', 'DET'), ('Facebook', 'ADP'), ('post', 'NOUN'), ('taken', 'VERB'), ('from', 'ADP'), ('Android', 'ADP'), ('smartphone', 'ADP'), ('and', 'CONJ'), ('uploaded', 'ADP'), ('results', 'NOUN'), ('to', 'PRT'), ('Youtube', 'ADP'), ('.', '.')]\n"
     ]
    }
   ],
   "source": [
    "sentence_test3='I Instagrammed a Facebook post taken from Android smartphone and uploaded results to Youtube.'\n",
    "words = word_tokenize(sentence_test3)\n",
    "tagged_seq = Viterbi(words)\n",
    "print(tagged_seq)"
   ]
  },
  {
   "cell_type": "code",
   "execution_count": 52,
   "metadata": {},
   "outputs": [
    {
     "name": "stdout",
     "output_type": "stream",
     "text": [
      "[('I', 'PRON'), ('Instagrammed', 'VERB'), ('a', 'DET'), ('Facebook', 'NOUN'), ('post', 'NOUN'), ('taken', 'VERB'), ('from', 'ADP'), ('Android', 'NOUN'), ('smartphone', 'NOUN'), ('and', 'CONJ'), ('uploaded', 'VERB'), ('results', 'NOUN'), ('to', 'PRT'), ('Youtube', 'NOUN'), ('.', '.')]\n"
     ]
    }
   ],
   "source": [
    "tagged_seq_modified = Viterbi_modified(words)\n",
    "print(tagged_seq_modified)"
   ]
  },
  {
   "cell_type": "markdown",
   "metadata": {},
   "source": [
    "We see the new words - Youtube, Facebook, smartphone going from X to NOUN. We alse see the verb of Instagrammed,uploaded getting recognised correctly"
   ]
  },
  {
   "cell_type": "code",
   "execution_count": null,
   "metadata": {},
   "outputs": [],
   "source": []
  },
  {
   "cell_type": "code",
   "execution_count": null,
   "metadata": {},
   "outputs": [],
   "source": []
  }
 ],
 "metadata": {
  "kernelspec": {
   "display_name": "Python 3",
   "language": "python",
   "name": "python3"
  },
  "language_info": {
   "codemirror_mode": {
    "name": "ipython",
    "version": 3
   },
   "file_extension": ".py",
   "mimetype": "text/x-python",
   "name": "python",
   "nbconvert_exporter": "python",
   "pygments_lexer": "ipython3",
   "version": "3.8.3"
  }
 },
 "nbformat": 4,
 "nbformat_minor": 2
}
